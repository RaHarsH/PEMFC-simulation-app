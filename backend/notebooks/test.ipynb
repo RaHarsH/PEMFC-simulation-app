{
 "cells": [
  {
   "cell_type": "code",
   "execution_count": 1,
   "id": "2dd2d028",
   "metadata": {},
   "outputs": [],
   "source": [
    "import pandas as pd"
   ]
  },
  {
   "cell_type": "code",
   "execution_count": 2,
   "id": "4dd1cc5d",
   "metadata": {},
   "outputs": [
    {
     "data": {
      "text/html": [
       "<div>\n",
       "<style scoped>\n",
       "    .dataframe tbody tr th:only-of-type {\n",
       "        vertical-align: middle;\n",
       "    }\n",
       "\n",
       "    .dataframe tbody tr th {\n",
       "        vertical-align: top;\n",
       "    }\n",
       "\n",
       "    .dataframe thead th {\n",
       "        text-align: right;\n",
       "    }\n",
       "</style>\n",
       "<table border=\"1\" class=\"dataframe\">\n",
       "  <thead>\n",
       "    <tr style=\"text-align: right;\">\n",
       "      <th></th>\n",
       "      <th>I</th>\n",
       "      <th>P</th>\n",
       "      <th>Q</th>\n",
       "      <th>T</th>\n",
       "      <th>Hydrogen</th>\n",
       "      <th>Oxygen</th>\n",
       "      <th>RH anode</th>\n",
       "      <th>Rh Cathode</th>\n",
       "      <th>V</th>\n",
       "    </tr>\n",
       "  </thead>\n",
       "  <tbody>\n",
       "    <tr>\n",
       "      <th>0</th>\n",
       "      <td>-0.886787</td>\n",
       "      <td>-1.027522</td>\n",
       "      <td>-0.806638</td>\n",
       "      <td>-1.261444</td>\n",
       "      <td>-1.873236</td>\n",
       "      <td>-1.227992</td>\n",
       "      <td>-2.493136</td>\n",
       "      <td>-1.875273</td>\n",
       "      <td>491.114619</td>\n",
       "    </tr>\n",
       "    <tr>\n",
       "      <th>1</th>\n",
       "      <td>-0.886787</td>\n",
       "      <td>-1.027522</td>\n",
       "      <td>-0.806638</td>\n",
       "      <td>-1.261444</td>\n",
       "      <td>-1.872990</td>\n",
       "      <td>-1.227992</td>\n",
       "      <td>-2.493136</td>\n",
       "      <td>-1.875273</td>\n",
       "      <td>491.114619</td>\n",
       "    </tr>\n",
       "    <tr>\n",
       "      <th>2</th>\n",
       "      <td>-0.886787</td>\n",
       "      <td>-1.027522</td>\n",
       "      <td>-0.806638</td>\n",
       "      <td>-1.261444</td>\n",
       "      <td>-1.872671</td>\n",
       "      <td>-1.227991</td>\n",
       "      <td>-2.493136</td>\n",
       "      <td>-1.875273</td>\n",
       "      <td>491.114619</td>\n",
       "    </tr>\n",
       "    <tr>\n",
       "      <th>3</th>\n",
       "      <td>-0.886787</td>\n",
       "      <td>-1.027522</td>\n",
       "      <td>-0.806638</td>\n",
       "      <td>-1.261444</td>\n",
       "      <td>-1.870597</td>\n",
       "      <td>-1.227988</td>\n",
       "      <td>-2.493136</td>\n",
       "      <td>-1.875273</td>\n",
       "      <td>491.114619</td>\n",
       "    </tr>\n",
       "    <tr>\n",
       "      <th>4</th>\n",
       "      <td>-0.886787</td>\n",
       "      <td>-1.027522</td>\n",
       "      <td>-0.806638</td>\n",
       "      <td>-1.261444</td>\n",
       "      <td>-1.867493</td>\n",
       "      <td>-1.227981</td>\n",
       "      <td>-2.493136</td>\n",
       "      <td>-1.875273</td>\n",
       "      <td>491.114619</td>\n",
       "    </tr>\n",
       "  </tbody>\n",
       "</table>\n",
       "</div>"
      ],
      "text/plain": [
       "          I         P         Q         T  Hydrogen    Oxygen  RH anode  \\\n",
       "0 -0.886787 -1.027522 -0.806638 -1.261444 -1.873236 -1.227992 -2.493136   \n",
       "1 -0.886787 -1.027522 -0.806638 -1.261444 -1.872990 -1.227992 -2.493136   \n",
       "2 -0.886787 -1.027522 -0.806638 -1.261444 -1.872671 -1.227991 -2.493136   \n",
       "3 -0.886787 -1.027522 -0.806638 -1.261444 -1.870597 -1.227988 -2.493136   \n",
       "4 -0.886787 -1.027522 -0.806638 -1.261444 -1.867493 -1.227981 -2.493136   \n",
       "\n",
       "   Rh Cathode           V  \n",
       "0   -1.875273  491.114619  \n",
       "1   -1.875273  491.114619  \n",
       "2   -1.875273  491.114619  \n",
       "3   -1.875273  491.114619  \n",
       "4   -1.875273  491.114619  "
      ]
     },
     "execution_count": 2,
     "metadata": {},
     "output_type": "execute_result"
    }
   ],
   "source": [
    "df = pd.read_csv(r\"C:\\Users\\HARSHITH\\Downloads\\pemfc_preprocessed_data.csv\")\n",
    "df.head()"
   ]
  },
  {
   "cell_type": "code",
   "execution_count": 3,
   "id": "b6e4e855",
   "metadata": {},
   "outputs": [
    {
     "name": "stdout",
     "output_type": "stream",
     "text": [
      "<class 'pandas.core.frame.DataFrame'>\n",
      "RangeIndex: 1491 entries, 0 to 1490\n",
      "Data columns (total 9 columns):\n",
      " #   Column      Non-Null Count  Dtype  \n",
      "---  ------      --------------  -----  \n",
      " 0   I           1491 non-null   float64\n",
      " 1   P           1491 non-null   float64\n",
      " 2   Q           1491 non-null   float64\n",
      " 3   T           1491 non-null   float64\n",
      " 4   Hydrogen    1491 non-null   float64\n",
      " 5   Oxygen      1491 non-null   float64\n",
      " 6   RH anode    1491 non-null   float64\n",
      " 7   Rh Cathode  1491 non-null   float64\n",
      " 8   V           1491 non-null   float64\n",
      "dtypes: float64(9)\n",
      "memory usage: 105.0 KB\n"
     ]
    }
   ],
   "source": [
    "df.info()"
   ]
  },
  {
   "cell_type": "code",
   "execution_count": 4,
   "id": "f53901bb",
   "metadata": {},
   "outputs": [
    {
     "data": {
      "text/html": [
       "<div>\n",
       "<style scoped>\n",
       "    .dataframe tbody tr th:only-of-type {\n",
       "        vertical-align: middle;\n",
       "    }\n",
       "\n",
       "    .dataframe tbody tr th {\n",
       "        vertical-align: top;\n",
       "    }\n",
       "\n",
       "    .dataframe thead th {\n",
       "        text-align: right;\n",
       "    }\n",
       "</style>\n",
       "<table border=\"1\" class=\"dataframe\">\n",
       "  <thead>\n",
       "    <tr style=\"text-align: right;\">\n",
       "      <th></th>\n",
       "      <th>I</th>\n",
       "      <th>P</th>\n",
       "      <th>Q</th>\n",
       "      <th>T</th>\n",
       "      <th>Hydrogen</th>\n",
       "      <th>Oxygen</th>\n",
       "      <th>RH anode</th>\n",
       "      <th>Rh Cathode</th>\n",
       "      <th>V</th>\n",
       "    </tr>\n",
       "  </thead>\n",
       "  <tbody>\n",
       "    <tr>\n",
       "      <th>count</th>\n",
       "      <td>1.491000e+03</td>\n",
       "      <td>1.491000e+03</td>\n",
       "      <td>1.491000e+03</td>\n",
       "      <td>1.491000e+03</td>\n",
       "      <td>1.491000e+03</td>\n",
       "      <td>1.491000e+03</td>\n",
       "      <td>1.491000e+03</td>\n",
       "      <td>1.491000e+03</td>\n",
       "      <td>1491.000000</td>\n",
       "    </tr>\n",
       "    <tr>\n",
       "      <th>mean</th>\n",
       "      <td>-1.143731e-16</td>\n",
       "      <td>-3.812436e-17</td>\n",
       "      <td>3.812436e-17</td>\n",
       "      <td>4.574923e-16</td>\n",
       "      <td>1.524974e-16</td>\n",
       "      <td>-1.143731e-16</td>\n",
       "      <td>-1.894781e-14</td>\n",
       "      <td>2.689731e-12</td>\n",
       "      <td>415.979051</td>\n",
       "    </tr>\n",
       "    <tr>\n",
       "      <th>std</th>\n",
       "      <td>1.000336e+00</td>\n",
       "      <td>1.000336e+00</td>\n",
       "      <td>1.000336e+00</td>\n",
       "      <td>1.000336e+00</td>\n",
       "      <td>1.000336e+00</td>\n",
       "      <td>1.000336e+00</td>\n",
       "      <td>1.000336e+00</td>\n",
       "      <td>1.000336e+00</td>\n",
       "      <td>62.182426</td>\n",
       "    </tr>\n",
       "    <tr>\n",
       "      <th>min</th>\n",
       "      <td>-8.867868e-01</td>\n",
       "      <td>-1.027522e+00</td>\n",
       "      <td>-8.066384e-01</td>\n",
       "      <td>-1.261444e+00</td>\n",
       "      <td>-1.873236e+00</td>\n",
       "      <td>-1.227992e+00</td>\n",
       "      <td>-2.493136e+00</td>\n",
       "      <td>-1.875273e+00</td>\n",
       "      <td>300.767404</td>\n",
       "    </tr>\n",
       "    <tr>\n",
       "      <th>25%</th>\n",
       "      <td>-8.669144e-01</td>\n",
       "      <td>-9.962673e-01</td>\n",
       "      <td>-8.004517e-01</td>\n",
       "      <td>-1.193796e+00</td>\n",
       "      <td>-8.027016e-01</td>\n",
       "      <td>-5.698701e-01</td>\n",
       "      <td>-5.112344e-01</td>\n",
       "      <td>-4.495906e-01</td>\n",
       "      <td>399.005626</td>\n",
       "    </tr>\n",
       "    <tr>\n",
       "      <th>50%</th>\n",
       "      <td>-3.728581e-01</td>\n",
       "      <td>-2.897759e-01</td>\n",
       "      <td>-4.659077e-01</td>\n",
       "      <td>3.834381e-01</td>\n",
       "      <td>-3.387112e-01</td>\n",
       "      <td>-5.121173e-01</td>\n",
       "      <td>-3.361999e-01</td>\n",
       "      <td>-1.211241e-01</td>\n",
       "      <td>421.497539</td>\n",
       "    </tr>\n",
       "    <tr>\n",
       "      <th>75%</th>\n",
       "      <td>3.667045e-01</td>\n",
       "      <td>6.719801e-01</td>\n",
       "      <td>2.840213e-01</td>\n",
       "      <td>7.280986e-01</td>\n",
       "      <td>4.541047e-01</td>\n",
       "      <td>4.776020e-01</td>\n",
       "      <td>8.100332e-01</td>\n",
       "      <td>5.008645e-01</td>\n",
       "      <td>464.497775</td>\n",
       "    </tr>\n",
       "    <tr>\n",
       "      <th>max</th>\n",
       "      <td>2.217133e+00</td>\n",
       "      <td>1.993872e+00</td>\n",
       "      <td>1.910731e+00</td>\n",
       "      <td>1.458798e+00</td>\n",
       "      <td>2.339314e+00</td>\n",
       "      <td>2.048810e+00</td>\n",
       "      <td>2.791935e+00</td>\n",
       "      <td>1.926547e+00</td>\n",
       "      <td>501.904108</td>\n",
       "    </tr>\n",
       "  </tbody>\n",
       "</table>\n",
       "</div>"
      ],
      "text/plain": [
       "                  I             P             Q             T      Hydrogen  \\\n",
       "count  1.491000e+03  1.491000e+03  1.491000e+03  1.491000e+03  1.491000e+03   \n",
       "mean  -1.143731e-16 -3.812436e-17  3.812436e-17  4.574923e-16  1.524974e-16   \n",
       "std    1.000336e+00  1.000336e+00  1.000336e+00  1.000336e+00  1.000336e+00   \n",
       "min   -8.867868e-01 -1.027522e+00 -8.066384e-01 -1.261444e+00 -1.873236e+00   \n",
       "25%   -8.669144e-01 -9.962673e-01 -8.004517e-01 -1.193796e+00 -8.027016e-01   \n",
       "50%   -3.728581e-01 -2.897759e-01 -4.659077e-01  3.834381e-01 -3.387112e-01   \n",
       "75%    3.667045e-01  6.719801e-01  2.840213e-01  7.280986e-01  4.541047e-01   \n",
       "max    2.217133e+00  1.993872e+00  1.910731e+00  1.458798e+00  2.339314e+00   \n",
       "\n",
       "             Oxygen      RH anode    Rh Cathode            V  \n",
       "count  1.491000e+03  1.491000e+03  1.491000e+03  1491.000000  \n",
       "mean  -1.143731e-16 -1.894781e-14  2.689731e-12   415.979051  \n",
       "std    1.000336e+00  1.000336e+00  1.000336e+00    62.182426  \n",
       "min   -1.227992e+00 -2.493136e+00 -1.875273e+00   300.767404  \n",
       "25%   -5.698701e-01 -5.112344e-01 -4.495906e-01   399.005626  \n",
       "50%   -5.121173e-01 -3.361999e-01 -1.211241e-01   421.497539  \n",
       "75%    4.776020e-01  8.100332e-01  5.008645e-01   464.497775  \n",
       "max    2.048810e+00  2.791935e+00  1.926547e+00   501.904108  "
      ]
     },
     "execution_count": 4,
     "metadata": {},
     "output_type": "execute_result"
    }
   ],
   "source": [
    "df.describe()"
   ]
  },
  {
   "cell_type": "code",
   "execution_count": 6,
   "id": "78a82ace",
   "metadata": {},
   "outputs": [
    {
     "name": "stdout",
     "output_type": "stream",
     "text": [
      "Current range: [-0.8867867547364153, 2.2171329261102786]\n"
     ]
    }
   ],
   "source": [
    "current_range = [df['I'].min(), df['I'].max()]\n",
    "print(f\"Current range: {current_range}\")"
   ]
  },
  {
   "cell_type": "code",
   "execution_count": 7,
   "id": "9be3bca2",
   "metadata": {},
   "outputs": [
    {
     "name": "stdout",
     "output_type": "stream",
     "text": [
      "Voltage range: [300.7674036000001, 501.9041084]\n"
     ]
    }
   ],
   "source": [
    "voltage_range = [df['V'].min(), df['V'].max()]\n",
    "print(f\"Voltage range: {voltage_range}\")"
   ]
  },
  {
   "cell_type": "code",
   "execution_count": 8,
   "id": "fbccf602",
   "metadata": {},
   "outputs": [
    {
     "name": "stdout",
     "output_type": "stream",
     "text": [
      "Power range: [-1.0275222094546763, 1.993871788926572]\n"
     ]
    }
   ],
   "source": [
    "power_range = [df['P'].min(), df['P'].max()]\n",
    "print(f\"Power range: {power_range}\")"
   ]
  },
  {
   "cell_type": "code",
   "execution_count": 9,
   "id": "70c927c0",
   "metadata": {},
   "outputs": [
    {
     "name": "stdout",
     "output_type": "stream",
     "text": [
      "Temperature range: [-1.26144424716395, 1.458798247702343]\n"
     ]
    }
   ],
   "source": [
    "temperature_range = [df['T'].min(), df['T'].max()]\n",
    "print(f\"Temperature range: {temperature_range}\")"
   ]
  },
  {
   "cell_type": "code",
   "execution_count": 11,
   "id": "6ab27e18",
   "metadata": {},
   "outputs": [
    {
     "name": "stdout",
     "output_type": "stream",
     "text": [
      "Hydrogen flow rate range: [-1.873235848499432, 2.3393141085865112]\n"
     ]
    }
   ],
   "source": [
    "hydrogen_flow_rate_range = [df['Hydrogen'].min(), df['Hydrogen'].max()]\n",
    "print(f\"Hydrogen flow rate range: {hydrogen_flow_rate_range}\")"
   ]
  },
  {
   "cell_type": "code",
   "execution_count": 12,
   "id": "b9b5d633",
   "metadata": {},
   "outputs": [
    {
     "name": "stdout",
     "output_type": "stream",
     "text": [
      "Oxygen flow rate range: [-1.2279917195588557, 2.048810177221708]\n"
     ]
    }
   ],
   "source": [
    "oxygen_flow_rate_range = [df['Oxygen'].min(), df['Oxygen'].max()]\n",
    "print(f\"Oxygen flow rate range: {oxygen_flow_rate_range}\")"
   ]
  },
  {
   "cell_type": "code",
   "execution_count": 14,
   "id": "980f9f1e",
   "metadata": {},
   "outputs": [
    {
     "name": "stdout",
     "output_type": "stream",
     "text": [
      "Relative humidity (anode) range: [-2.493135725509387, 2.791934504175718]\n"
     ]
    }
   ],
   "source": [
    "relative_humidity_anode_range = [df['RH anode'].min(), df['RH anode'].max()]\n",
    "print(f\"Relative humidity (anode) range: {relative_humidity_anode_range}\")"
   ]
  },
  {
   "cell_type": "code",
   "execution_count": 15,
   "id": "f5c708f8",
   "metadata": {},
   "outputs": [
    {
     "name": "stdout",
     "output_type": "stream",
     "text": [
      "Relative humidity (cathode) range: [-1.8752733388297125, 1.9265472479384151]\n"
     ]
    }
   ],
   "source": [
    "relative_humidity_cathode_range = [df['Rh Cathode'].min(), df['Rh Cathode'].max()]\n",
    "print(f\"Relative humidity (cathode) range: {relative_humidity_cathode_range}\")"
   ]
  },
  {
   "cell_type": "code",
   "execution_count": null,
   "id": "2944b39d",
   "metadata": {},
   "outputs": [],
   "source": []
  }
 ],
 "metadata": {
  "kernelspec": {
   "display_name": "base",
   "language": "python",
   "name": "python3"
  },
  "language_info": {
   "codemirror_mode": {
    "name": "ipython",
    "version": 3
   },
   "file_extension": ".py",
   "mimetype": "text/x-python",
   "name": "python",
   "nbconvert_exporter": "python",
   "pygments_lexer": "ipython3",
   "version": "3.12.7"
  }
 },
 "nbformat": 4,
 "nbformat_minor": 5
}
